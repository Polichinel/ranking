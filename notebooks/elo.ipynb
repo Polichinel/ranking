{
 "cells": [
  {
   "cell_type": "code",
   "execution_count": 49,
   "metadata": {},
   "outputs": [],
   "source": [
    "import random"
   ]
  },
  {
   "cell_type": "code",
   "execution_count": 50,
   "metadata": {},
   "outputs": [],
   "source": [
    "def calculate_elo_rating(rating1, rating2, score1, score2, k=32):\n",
    "    \"\"\"\n",
    "    Calculate the new Elo ratings for two players.\n",
    "    Used in the function \"simulate_matches\" to update the ratings of the players after each match.\n",
    "    \n",
    "    Parameters:\n",
    "        rating1 (float): Current Elo rating of player 1\n",
    "        rating2 (float): Current Elo rating of player 2\n",
    "        score1 (float): Score for player 1 (1 for win, 0.5 for draw, 0 for loss)\n",
    "        score2 (float): Score for player 2 (1 for win, 0.5 for draw, 0 for loss)\n",
    "        k (int): K-factor, which affects the volatility of the rating (default 32)\n",
    "    \n",
    "    Returns:\n",
    "        tuple: Updated ratings for player 1 and player 2\n",
    "    \"\"\"\n",
    "    \n",
    "    # Calculate the expected score for each player\n",
    "    expected1 = 1 / (1 + 10 ** ((rating2 - rating1) / 400))\n",
    "    expected2 = 1 / (1 + 10 ** ((rating1 - rating2) / 400))\n",
    "    \n",
    "    # Update the ratings\n",
    "    new_rating1 = rating1 + k * (score1 - expected1)\n",
    "    new_rating2 = rating2 + k * (score2 - expected2)\n",
    "    \n",
    "    return new_rating1, new_rating2"
   ]
  },
  {
   "cell_type": "code",
   "execution_count": 51,
   "metadata": {},
   "outputs": [],
   "source": [
    "def simulate_matches(n, win_percentage_player1, initial_rating1, initial_rating2, k=32):\n",
    "\n",
    "    \"\"\"\n",
    "    Simulate a series of matches between two players and calculate their final Elo ratings.\n",
    "\n",
    "    Parameters:\n",
    "        n (int): Number of matches to simulate\n",
    "        win_percentage_player1 (float): Probability that player 1 wins each match\n",
    "        initial_rating1 (float): Initial Elo rating of player 1\n",
    "        initial_rating2 (float): Initial Elo rating of player 2\n",
    "        k (int): K-factor, which affects the volatility of the rating (default 32)\n",
    "\n",
    "    Returns:\n",
    "        tuple: Final ratings for player 1 and player 2\n",
    "    \"\"\"    \n",
    "\n",
    "    rating1 = initial_rating1\n",
    "    rating2 = initial_rating2\n",
    "    \n",
    "    for _ in range(n):\n",
    "        # Determine the outcome of the match based on win percentage\n",
    "        if random.random() < win_percentage_player1:\n",
    "            # Player 1 wins\n",
    "            score1, score2 = 1, 0\n",
    "        else:\n",
    "            # Player 2 wins\n",
    "            score1, score2 = 0, 1\n",
    "        \n",
    "        # Update ratings\n",
    "        rating1, rating2 = calculate_elo_rating(rating1, rating2, score1, score2, k)\n",
    "    \n",
    "    return rating1, rating2\n",
    "\n"
   ]
  },
  {
   "cell_type": "code",
   "execution_count": 52,
   "metadata": {},
   "outputs": [],
   "source": [
    "def calculate_expected_scores(rating1, rating2):\n",
    "    \"\"\"\n",
    "    Calculate the expected probability of winning for each player based on their Elo ratings.\n",
    "    \n",
    "    Parameters:\n",
    "        rating1 (float): Elo rating of player 1\n",
    "        rating2 (float): Elo rating of player 2\n",
    "    \n",
    "    Returns:\n",
    "        tuple: Expected winning probabilities for player 1 and player 2 respectively\n",
    "    \"\"\"\n",
    "    expected1 = 1 / (1 + 10 ** ((rating2 - rating1) / 400))\n",
    "    expected2 = 1 / (1 + 10 ** ((rating1 - rating2) / 400))\n",
    "    return expected1, expected2"
   ]
  },
  {
   "cell_type": "code",
   "execution_count": 53,
   "metadata": {},
   "outputs": [],
   "source": [
    "def interpret_elo_difference(rating1, rating2):\n",
    "    \"\"\"\n",
    "    Interprets the difference between two Elo ratings by using a provided expected probability\n",
    "    of winning and offering a qualitative assessment of the skill gap.\n",
    "    \n",
    "    Parameters:\n",
    "        rating1 (int): Elo rating of player 1\n",
    "        rating2 (int): Elo rating of player 2\n",
    "    \"\"\"\n",
    "    # Calculate the rating difference\n",
    "    rating_diff = abs(rating1 - rating2)\n",
    "    \n",
    "    # Determine the significance of the rating difference\n",
    "    if rating_diff == 0:\n",
    "        description = \"Players are perfectly matched with identical ratings.\"\n",
    "    elif 0 < rating_diff <= 100:\n",
    "        description = \"Small Difference: Players are fairly evenly matched, with competitive outcomes likely.\"\n",
    "    elif 100 < rating_diff <= 200:\n",
    "        description = \"Moderate Difference: There is a noticeable skill gap; the higher-rated player is significantly favored.\"\n",
    "    elif 200 < rating_diff <= 400:\n",
    "        description = \"Large Difference: The higher-rated player is expected to win the majority of the time, indicating a substantial skill difference.\"\n",
    "    else:\n",
    "        description = \"Massive Difference: A massive difference in skill, with the higher-rated player expected to win about 91% of the time.\"\n",
    "\n",
    "    return description"
   ]
  },
  {
   "cell_type": "code",
   "execution_count": 54,
   "metadata": {},
   "outputs": [],
   "source": [
    "def print_results(rating_player1, rating_player2, expected_player1, expected_player2, description):\n",
    "    \"\"\"\n",
    "    Print the results in a formatted way to display Elo ratings and winning probabilities.\n",
    "    \n",
    "    Parameters:\n",
    "        rating_player1 (float): Final Elo rating of player 1\n",
    "        rating_player2 (float): Final Elo rating of player 2\n",
    "        expected_player1 (float): Expected probability of player 1 winning\n",
    "        expected_player2 (float): Expected probability of player 2 winning\n",
    "\n",
    "    Returns:\n",
    "        None\n",
    "    \"\"\"\n",
    "    print(\"Results Summary:\\n\")\n",
    "    print(f\"Final Elo Ratings:\")\n",
    "    print(f\"  Player 1: {rating_player1:.2f}\")\n",
    "    print(f\"  Player 2: {rating_player2:.2f}\\n\")\n",
    "    print(\"Expected Winning Probabilities:\")\n",
    "    print(f\"  Player 1: {expected_player1*100:.2f}%\")\n",
    "    print(f\"  Player 2: {expected_player2*100:.2f}%\\n\")\n",
    "    print(f\"{description}\\n\")"
   ]
  },
  {
   "cell_type": "code",
   "execution_count": 61,
   "metadata": {},
   "outputs": [],
   "source": [
    "# Parameters\n",
    "N = 100  # Number of iterations\n",
    "win_percentage_player1 = 0.99  # Player 1 wins 75% of the matches\n",
    "initial_rating_player1 = 1000\n",
    "initial_rating_player2 = 1000\n",
    "k_factor = 32  # Volatility of rating changes"
   ]
  },
  {
   "cell_type": "code",
   "execution_count": 66,
   "metadata": {},
   "outputs": [
    {
     "name": "stdout",
     "output_type": "stream",
     "text": [
      "Results Summary:\n",
      "\n",
      "Final Elo Ratings:\n",
      "  Player 1: 1308.39\n",
      "  Player 2: 691.61\n",
      "\n",
      "Expected Winning Probabilities:\n",
      "  Player 1: 97.21%\n",
      "  Player 2: 2.79%\n",
      "\n",
      "Massive Difference: A massive difference in skill, with the higher-rated player expected to win about 91% of the time.\n",
      "\n"
     ]
    }
   ],
   "source": [
    "# Running the simulation\n",
    "final_rating_player1, final_rating_player2 = simulate_matches(N, win_percentage_player1, initial_rating_player1, initial_rating_player2, k_factor)\n",
    "expected_player1, expected_player2 = calculate_expected_scores(final_rating_player1, final_rating_player2)\n",
    "description = interpret_elo_difference(final_rating_player1, final_rating_player2)\n",
    "\n",
    "# print results\n",
    "print_results(final_rating_player1, final_rating_player2, expected_player1, expected_player2, description)"
   ]
  }
 ],
 "metadata": {
  "kernelspec": {
   "display_name": "base",
   "language": "python",
   "name": "python3"
  },
  "language_info": {
   "codemirror_mode": {
    "name": "ipython",
    "version": 3
   },
   "file_extension": ".py",
   "mimetype": "text/x-python",
   "name": "python",
   "nbconvert_exporter": "python",
   "pygments_lexer": "ipython3",
   "version": "3.10.9"
  }
 },
 "nbformat": 4,
 "nbformat_minor": 2
}
